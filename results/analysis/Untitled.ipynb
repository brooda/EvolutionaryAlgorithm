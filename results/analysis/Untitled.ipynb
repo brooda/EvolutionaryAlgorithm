{
 "cells": [
  {
   "cell_type": "code",
   "execution_count": 56,
   "metadata": {},
   "outputs": [],
   "source": [
    "import os\n",
    "import pickle\n",
    "import numpy as np\n",
    "import matplotlib.pyplot as plt"
   ]
  },
  {
   "cell_type": "code",
   "execution_count": 57,
   "metadata": {},
   "outputs": [],
   "source": [
    "def subfolders(directory):\n",
    "    return [ f.path for f in os.scandir(directory) if f.is_dir() ]\n",
    "\n",
    "def files(directory):\n",
    "    return [ f.path for f in os.scandir(directory) if f.is_file() ]"
   ]
  },
  {
   "cell_type": "code",
   "execution_count": 58,
   "metadata": {},
   "outputs": [],
   "source": [
    "data = {}\n",
    "\n",
    "for experiment_folder in subfolders(\"..\")[1:]:\n",
    "    data[os.path.basename(experiment_folder)] = {}\n",
    "    \n",
    "    for file in files(os.path.join(experiment_folder, \"statistics\")):\n",
    "        num = int(os.path.basename(file))\n",
    "        \n",
    "        f = open(file, 'rb')\n",
    "        dump = pickle.load(f)\n",
    "        data[os.path.basename(experiment_folder)][num] = dump\n",
    "        f.close()"
   ]
  },
  {
   "cell_type": "code",
   "execution_count": 65,
   "metadata": {},
   "outputs": [],
   "source": [
    "def filter_where_contains_values(directory_names, needed_substrings):\n",
    "    ret = []\n",
    "    \n",
    "    for directory_name in directory_names:\n",
    "        if len(needed_substrings)==0 or all([needed_substring in directory_name for needed_substring in needed_substrings]):\n",
    "            ret.append(directory_name)\n",
    "            \n",
    "    return ret"
   ]
  },
  {
   "cell_type": "code",
   "execution_count": 75,
   "metadata": {},
   "outputs": [],
   "source": [
    "experiments = list(data.keys())\n",
    "\n",
    "constant = filter_where_contains_values(experiments, [\"constant\"])\n",
    "gaussian = filter_where_contains_values(experiments, [\"constant\"])\n",
    "two_gaussians = filter_where_contains_values(experiments, [\"constant\"])"
   ]
  },
  {
   "cell_type": "code",
   "execution_count": 76,
   "metadata": {},
   "outputs": [
    {
     "data": {
      "text/plain": [
       "['constant_dim_1_tournament_2_rep_0',\n",
       " 'constant_dim_1_tournament_2_rep_1',\n",
       " 'constant_dim_1_tournament_2_rep_2']"
      ]
     },
     "execution_count": 76,
     "metadata": {},
     "output_type": "execute_result"
    }
   ],
   "source": [
    "two_gaussians"
   ]
  },
  {
   "cell_type": "code",
   "execution_count": 43,
   "metadata": {},
   "outputs": [],
   "source": [
    "def plot_three_rows_of_dataset(df, title):\n",
    "    plt.plot(df[:, 0], label=\"3rd\")\n",
    "    plt.plot(df[:, 1], label=\"2nd\")\n",
    "    plt.plot(df[:, 2], label=\"1st\")\n",
    "    \n",
    "    plt.title(title)\n",
    "    plt.legend(loc='best', borderaxespad=0.)\n",
    "\n",
    "def plot_\n",
    "n = len(keys)\n",
    "    \n",
    "card_arr = np.zeros((n, 3))\n",
    "mean_arr = np.zeros((n, 3))\n",
    "std_arr = np.zeros((n, 3))\n",
    "\n",
    "for i, key in enumerate(keys):\n",
    "    d = data[key]\n",
    "    \n",
    "    card = np.array(list(d[\"cardinality_of_clusters\"].values()))\n",
    "    mean = d[\"cluster_centers\"][:, 0]\n",
    "    std = np.array(list(d[\"std_in_clusters\"].values()))[:, 0]\n",
    "\n",
    "    sorted_ind = np.argsort(card)\n",
    "    \n",
    "    card_arr[i, :] = card[sorted_ind]\n",
    "    mean_arr[i, :] = mean[sorted_ind]\n",
    "    std_arr[i, :] = std[sorted_ind]\n",
    "    \n",
    "plot_three_rows_of_dataset(card_arr, \"cardinality \")\n",
    "plot_three_rows_of_dataset(mean_arr, \"mean\")\n",
    "plot_three_rows_of_dataset(std_arr, \"standard deviatiot\")"
   ]
  },
  {
   "cell_type": "code",
   "execution_count": 42,
   "metadata": {},
   "outputs": [],
   "source": [
    "for experiment in experiments:\n",
    "    pri"
   ]
  },
  {
   "cell_type": "code",
   "execution_count": 47,
   "metadata": {},
   "outputs": [
    {
     "data": {
      "image/png": "[encoded data removed]",
      "text/plain": [
       "<Figure size 432x288 with 1 Axes>"
      ]
     },
     "metadata": {
      "needs_background": "light"
     },
     "output_type": "display_data"
    }
   ],
   "source": [
    "dupa(std_arr)"
   ]
  },
  {
   "cell_type": "code",
   "execution_count": null,
   "metadata": {},
   "outputs": [],
   "source": []
  }
 ],
 "metadata": {
  "kernelspec": {
   "display_name": "Python 3",
   "language": "python",
   "name": "python3"
  },
  "language_info": {
   "codemirror_mode": {
    "name": "ipython",
    "version": 3
   },
   "file_extension": ".py",
   "mimetype": "text/x-python",
   "name": "python",
   "nbconvert_exporter": "python",
   "pygments_lexer": "ipython3",
   "version": "3.6.8"
  }
 },
 "nbformat": 4,
 "nbformat_minor": 4
}
