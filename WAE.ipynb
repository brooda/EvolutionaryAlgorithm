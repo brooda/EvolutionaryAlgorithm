{
  "nbformat": 4,
  "nbformat_minor": 0,
  "metadata": {
    "colab": {
      "name": "WAE.ipynb",
      "provenance": [],
      "collapsed_sections": [],
      "toc_visible": true
    },
    "kernelspec": {
      "name": "python3",
      "display_name": "Python 3"
    }
  },
  "cells": [
    {
      "cell_type": "markdown",
      "metadata": {
        "id": "FfPWj2cz96Wf",
        "colab_type": "text"
      },
      "source": [
        "## Funkcje celu"
      ]
    },
    {
      "cell_type": "code",
      "metadata": {
        "id": "AJhhRYyz9Md7",
        "colab_type": "code",
        "colab": {}
      },
      "source": [
        "import numpy as np\n",
        "\n",
        "def constant(x):\n",
        "    return 1\n",
        "\n",
        "def gaussian(x, mu, sig):\n",
        "    return np.sum(np.exp(-np.power(x - mu, 2.) / (2 * np.power(sig, 2.))))\n",
        "\n",
        "def two_gaussians(x, mu1, sig1, mu2, sig2):\n",
        "    return gaussian(x, mu1, sig1) + gaussian(x, mu2, sig2)"
      ],
      "execution_count": 0,
      "outputs": []
    },
    {
      "cell_type": "markdown",
      "metadata": {
        "id": "e9wIh2fG-CMW",
        "colab_type": "text"
      },
      "source": [
        "## Wybór parametrów"
      ]
    },
    {
      "cell_type": "markdown",
      "metadata": {
        "id": "RVD3yW5c-It2",
        "colab_type": "text"
      },
      "source": [
        "### Ustawienie ziarna"
      ]
    },
    {
      "cell_type": "code",
      "metadata": {
        "id": "miWv0SO7-BXa",
        "colab_type": "code",
        "colab": {}
      },
      "source": [
        "seed = 0 #@param {type: \"integer\"}\n",
        "np.random.seed(seed)"
      ],
      "execution_count": 0,
      "outputs": []
    },
    {
      "cell_type": "markdown",
      "metadata": {
        "id": "Tj8MRgBg-Mim",
        "colab_type": "text"
      },
      "source": [
        "### Wybór funkcji celu"
      ]
    },
    {
      "cell_type": "code",
      "metadata": {
        "id": "9K_qxfAL-QIH",
        "colab_type": "code",
        "colab": {}
      },
      "source": [
        "#@title funkcja celu { run: \"auto\" }\n",
        "\n",
        "config = \"constant\" #@param [\"constant\", \"Gaussian function\", \"sum of two Gaussian functions\"]"
      ],
      "execution_count": 0,
      "outputs": []
    },
    {
      "cell_type": "markdown",
      "metadata": {
        "id": "SxTr0CQ4-srh",
        "colab_type": "text"
      },
      "source": [
        "### Wybór parametrów funkcji Gaussa"
      ]
    },
    {
      "cell_type": "code",
      "metadata": {
        "id": "IzxOvRR0_FMJ",
        "colab_type": "code",
        "colab": {}
      },
      "source": [
        "if config == \"constant\":\n",
        "    goal_function = constant(x)\n",
        "else:\n",
        "    mu1 = 0 #@param {type: \"integer\"}\n",
        "    sigma1 = 1 #@param {type: \"integer\"}\n",
        "    if config == \"sum of two Gaussian functions\":\n",
        "        mu2 = 3 #@param {type: \"integer\"}\n",
        "        sigma2 = 1 #@param {type: \"integer\"}\n",
        "        goal_function = two_gaussians(x, mu1, sigma1, mu2, sigma2)\n",
        "    else:\n",
        "        goal_function = gaussian(x, mu1, sigma1)"
      ],
      "execution_count": 0,
      "outputs": []
    },
    {
      "cell_type": "markdown",
      "metadata": {
        "id": "cGPe8XHt99vG",
        "colab_type": "text"
      },
      "source": [
        "## Algorytm ewolucyjny"
      ]
    },
    {
      "cell_type": "code",
      "metadata": {
        "id": "EX-bG6ZG9HKI",
        "colab_type": "code",
        "colab": {}
      },
      "source": [
        "class EvolutionaryAlgorithm:\n",
        "    def __init__(self):\n",
        "        self.LowerBound = -100\n",
        "        self.UpperBound = 100\n",
        "\n",
        "        self.populationSize = 1000\n",
        "        self.dim = 5\n",
        "\n",
        "        self.mutation_sigma = 1\n",
        "        self.tournament_size = 4\n",
        "\n",
        "        # change according to settings\n",
        "        self.evaluate = two_gaussians\n",
        "       \n",
        "        # self.sigma = settings.sigma\n",
        "        self.population = 10 * (np.random.rand(self.populationSize, self.dim) - 0.5)\n",
        "\n",
        "        self.crossing_probability = 0.5\n",
        "\n",
        "        self.iterations = 200\n",
        "\n",
        "        self.iter = 0  # current number of iteration\n",
        "        self.mutation_success_counter = 0\n",
        "\n",
        "        \n",
        "\n",
        "    def Solve(self):\n",
        "        for self.iter in range(self.iterations):\n",
        "            print(\"iteration: \", self.iter)\n",
        "\n",
        "            # Analyze clusters in Population            \n",
        "            self.AnalyzePopulation()\n",
        "\n",
        "            # The population is evaluated (selection). The best adapted individuals take part in the reproduction process\n",
        "            self.Reproduction()\n",
        "\n",
        "            self.Crossover()\n",
        "            self.Mutate()\n",
        "\n",
        "            self.Succession()\n",
        "\n",
        "\n",
        "\n",
        "\n",
        "    def AnalyzePopulation(self):\n",
        "        print(\"mean\", np.mean(self.population, axis = 0))\n",
        "        print(\"std\", np.std(self.population, axis = 0))\n",
        "\n",
        "\n",
        "\n",
        "    def Reproduction(self):\n",
        "        fitness = np.apply_along_axis(self.evaluate, 1, self.population).flatten()\n",
        "        tmpPopulation = np.zeros(shape = self.population.shape)\n",
        "\n",
        "        for i in range(self.populationSize):\n",
        "            tournamentIndices = np.random.randint(self.populationSize, size = self.tournament_size)\n",
        "            tmpfitness = np.zeros(shape = fitness.shape)\n",
        "            tmpfitness[tournamentIndices] = fitness[tournamentIndices]\n",
        "            \n",
        "            tmpPopulation[i] = self.population[np.argmax(tmpfitness)]\n",
        "\n",
        "        self.population = tmpPopulation.copy()\n",
        "\n",
        "\n",
        "    def Mutate(self):\n",
        "        mean_value_before = np.mean(np.apply_along_axis(self.evaluate, 1, self.population))\n",
        "        self.population = self.population + self.mutation_sigma * np.random.normal(size = self.population.shape)\n",
        "        mean_value_after = np.mean(np.apply_along_axis(self.evaluate, 1, self.population))\n",
        "\n",
        "        if mean_value_after > mean_value_before:\n",
        "            self.mutation_success_counter += 1\n",
        "\n",
        "        if self.mutation_success_counter > 0.2 * self.iter:\n",
        "            self.mutation_sigma *= 2.0\n",
        "        else:    \n",
        "            self.mutation_sigma /= 2.0\n",
        "\n",
        "\n",
        "\n",
        "\n",
        "\n",
        "    def Crossover(self):\n",
        "        number_of_crossovers = int(self.crossing_probability * self.populationSize)\n",
        "            \n",
        "        # In each crossover, we select two parents\n",
        "        # parents are deleted from population, their child is added to population\n",
        "        # this phase SHRINKS population, population will regain its original size on succession\n",
        "\n",
        "        rows_to_delete = []\n",
        "        children = np.zeros(shape = (number_of_crossovers, self.population.shape[1]))\n",
        "\n",
        "        for i in range(number_of_crossovers):\n",
        "            first_parent_ind = np.random.randint(self.populationSize)\n",
        "            second_parent_ind = np.random.randint(self.populationSize)\n",
        "\n",
        "            rows_to_delete.append(first_parent_ind)\n",
        "            rows_to_delete.append(second_parent_ind)\n",
        "\n",
        "            child = (self.population[first_parent_ind] + self.population[second_parent_ind]) / 2\n",
        "            children[i] = child\n",
        "\n",
        "\n",
        "        self.population = np.delete(self.population, rows_to_delete, axis = 0)\n",
        "        self.population = np.append(self.population, children, axis = 0)\n",
        "\n",
        "\n",
        "    def Succession(self):\n",
        "        # generative succession - we are taking elements after mutation\n",
        "        # we keep population size constant, that's why we are duplicatind some elements sometimes\n",
        "        add_individuals = np.random.choice(self.population.shape[0], self.populationSize - self.population.shape[0])\n",
        "        self.population = np.append(self.population, self.population[add_individuals], axis = 0)\n"
      ],
      "execution_count": 0,
      "outputs": []
    },
    {
      "cell_type": "markdown",
      "metadata": {
        "id": "2HYO-oEWBI0B",
        "colab_type": "text"
      },
      "source": [
        "## Uruchomienie algorytmu"
      ]
    },
    {
      "cell_type": "code",
      "metadata": {
        "id": "gdAKL9uY9RXc",
        "colab_type": "code",
        "colab": {}
      },
      "source": [
        "alg = EvolutionaryAlgorithm()\n",
        "alg.Solve()"
      ],
      "execution_count": 0,
      "outputs": []
    },
    {
      "cell_type": "markdown",
      "metadata": {
        "id": "kniGyPJbBM0Z",
        "colab_type": "text"
      },
      "source": [
        "## Wykresy"
      ]
    },
    {
      "cell_type": "markdown",
      "metadata": {
        "id": "mMqLpY1uDg4H",
        "colab_type": "text"
      },
      "source": [
        "### Podział na skupienia dla danych 2D"
      ]
    },
    {
      "cell_type": "code",
      "metadata": {
        "id": "j4qyvVcABOhz",
        "colab_type": "code",
        "colab": {}
      },
      "source": [
        ""
      ],
      "execution_count": 0,
      "outputs": []
    }
  ]
}