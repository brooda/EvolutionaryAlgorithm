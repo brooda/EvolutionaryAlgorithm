{
  "nbformat": 4,
  "nbformat_minor": 0,
  "metadata": {
    "colab": {
      "name": "WAE.ipynb",
      "provenance": [],
      "collapsed_sections": [],
      "toc_visible": true
    },
    "kernelspec": {
      "display_name": "Python 3",
      "language": "python",
      "name": "python3"
    },
    "language_info": {
      "codemirror_mode": {
        "name": "ipython",
        "version": 3
      },
      "file_extension": ".py",
      "mimetype": "text/x-python",
      "name": "python",
      "nbconvert_exporter": "python",
      "pygments_lexer": "ipython3",
      "version": "3.6.8"
    }
  },
  "cells": [
    {
      "cell_type": "markdown",
      "metadata": {
        "colab_type": "text",
        "id": "RVD3yW5c-It2"
      },
      "source": [
        "### Ustawienie ziarna"
      ]
    },
    {
      "cell_type": "code",
      "metadata": {
        "colab_type": "code",
        "id": "miWv0SO7-BXa",
        "colab": {},
        "cellView": "both"
      },
      "source": [
        "import numpy as np\n",
        "import matplotlib.pyplot as plt\n",
        "\n",
        "seed = 0 #@param {type: \"integer\"}\n",
        "np.random.seed(seed)"
      ],
      "execution_count": 0,
      "outputs": []
    },
    {
      "cell_type": "markdown",
      "metadata": {
        "colab_type": "text",
        "id": "FfPWj2cz96Wf"
      },
      "source": [
        "## Funkcje celu"
      ]
    },
    {
      "cell_type": "markdown",
      "metadata": {
        "colab_type": "text",
        "id": "e9wIh2fG-CMW"
      },
      "source": [
        "## Wybór parametrów"
      ]
    },
    {
      "cell_type": "markdown",
      "metadata": {
        "colab_type": "text",
        "id": "Tj8MRgBg-Mim"
      },
      "source": [
        "### Wybór funkcji celu"
      ]
    },
    {
      "cell_type": "code",
      "metadata": {
        "colab_type": "code",
        "id": "9K_qxfAL-QIH",
        "colab": {}
      },
      "source": [
        "#@title funkcja celu { run: \"auto\" }\n",
        "\n",
        "config = \"constant\" #@param [\"constant\", \"Gaussian function\", \"sum of two Gaussian functions\", \"rastrigin\"]"
      ],
      "execution_count": 0,
      "outputs": []
    },
    {
      "cell_type": "markdown",
      "metadata": {
        "colab_type": "text",
        "id": "SxTr0CQ4-srh"
      },
      "source": [
        "### Wybór funkcji celu i parametrów (mu, sigma dla funkcji Gaussa i A dla funkcji Rastrigina)"
      ]
    },
    {
      "cell_type": "code",
      "metadata": {
        "colab_type": "code",
        "id": "IzxOvRR0_FMJ",
        "colab": {}
      },
      "source": [
        "A = 10 #@param {type: \"integer\"}\n",
        "mu1 = 0 #@param {type: \"integer\"}\n",
        "sigma1 = 1 #@param {type: \"integer\"}\n",
        "mu2 = 0 #@param {type: \"integer\"}\n",
        "sigma2 = 1 #@param {type: \"integer\"}\n",
        "\n",
        "def constant(x):\n",
        "    return 1\n",
        "\n",
        "def gaussian(x):\n",
        "    return np.sum(np.exp(-np.power(x - mu1, 2.) / (2 * np.power(sigma1, 2.))))\n",
        "\n",
        "def two_gaussians(x):\n",
        "    return gaussian(x, mu1, sigma1) + gaussian(x, mu2, sigma2)\n",
        "\n",
        "def rastrigin(x):\n",
        "    n = x.shape[0]\n",
        "    return A*n + np.sum(x - A * np.cos(2 * np.pi * x))\n",
        "\n",
        "\n",
        "if config == \"constant\":\n",
        "    goal_function = constant\n",
        "elif config == \"rastrigin\":\n",
        "    goal_function = rastrigin\n",
        "elif config == \"sum of two Gaussian functions\":\n",
        "    goal_function = two_gaussians\n",
        "else:\n",
        "    goal_function = gaussian"
      ],
      "execution_count": 0,
      "outputs": []
    },
    {
      "cell_type": "markdown",
      "metadata": {
        "colab_type": "text",
        "id": "d1GpgDsFI7AR"
      },
      "source": [
        "### Parametry populacji"
      ]
    },
    {
      "cell_type": "code",
      "metadata": {
        "colab_type": "code",
        "id": "aRyQcS84Ioku",
        "colab": {}
      },
      "source": [
        "rozmiar_populacji = 1000 #@param {type: \"integer\"}\n",
        "wymiar_populacji = 2 #@param {type: \"integer\"}"
      ],
      "execution_count": 0,
      "outputs": []
    },
    {
      "cell_type": "markdown",
      "metadata": {
        "colab_type": "text",
        "id": "Jy-wFmPNJKJb"
      },
      "source": [
        "### Parametry algorytmu"
      ]
    },
    {
      "cell_type": "code",
      "metadata": {
        "colab_type": "code",
        "id": "7hGqSSXLJOZB",
        "colab": {}
      },
      "source": [
        "dolna_granica = -100 #@param {type: \"integer\"}\n",
        "gorna_granica = 100 #@param {type: \"integer\"}\n",
        "parametr_mutacji = 1 #@param {type: \"integer\"}\n",
        "rozmiar_turnieju = 4 #@param {type: \"integer\"}\n",
        "p_krzyzowania = 0.5 #@param {type: \"number\"}\n",
        "liczba_iteracji =  10#@param {type: \"integer\"}"
      ],
      "execution_count": 0,
      "outputs": []
    },
    {
      "cell_type": "markdown",
      "metadata": {
        "colab_type": "text",
        "id": "cGPe8XHt99vG"
      },
      "source": [
        "## Algorytm ewolucyjny"
      ]
    },
    {
      "cell_type": "code",
      "metadata": {
        "colab_type": "code",
        "id": "EX-bG6ZG9HKI",
        "colab": {}
      },
      "source": [
        "class EvolutionaryAlgorithm:\n",
        "    def __init__(self, goal_function):\n",
        "        self.LowerBound = dolna_granica\n",
        "        self.UpperBound = gorna_granica\n",
        "\n",
        "        self.populationSize = rozmiar_populacji\n",
        "        self.dim = wymiar_populacji\n",
        "\n",
        "        self.mutation_sigma = parametr_mutacji\n",
        "        self.tournament_size = rozmiar_turnieju\n",
        "\n",
        "        # change according to settings\n",
        "        self.evaluate = goal_function\n",
        "       \n",
        "        # self.sigma = settings.sigma\n",
        "        self.population = 10 * (np.random.rand(self.populationSize, self.dim) - 0.5)\n",
        "\n",
        "        self.crossing_probability = p_krzyzowania\n",
        "\n",
        "        self.iterations = liczba_iteracji\n",
        "\n",
        "        self.iter = 0  # current number of iteration\n",
        "        self.mutation_success_counter = 0\n",
        "\n",
        "        \n",
        "\n",
        "    def Solve(self):\n",
        "        for self.iter in range(self.iterations):\n",
        "            print(\"iteration: \", self.iter)\n",
        "\n",
        "            # Analyze clusters in Population            \n",
        "            self.AnalyzePopulation()\n",
        "\n",
        "            # The population is evaluated (selection). The best adapted individuals take part in the reproduction process\n",
        "            self.Reproduction()\n",
        "\n",
        "            self.Crossover()\n",
        "            self.Mutate()\n",
        "\n",
        "            self.Succession()\n",
        "\n",
        "\n",
        "\n",
        "\n",
        "    def AnalyzePopulation(self):\n",
        "        print(\"mean\", np.mean(self.population, axis = 0))\n",
        "        print(\"std\", np.std(self.population, axis = 0))\n",
        "\n",
        "\n",
        "\n",
        "    def Reproduction(self):\n",
        "        fitness = np.apply_along_axis(self.evaluate, 1, self.population).flatten()\n",
        "        tmpPopulation = np.zeros(shape = self.population.shape)\n",
        "\n",
        "        for i in range(self.populationSize):\n",
        "            tournamentIndices = np.random.randint(self.populationSize, size = self.tournament_size)\n",
        "            tmpfitness = np.zeros(shape = fitness.shape)\n",
        "            tmpfitness[tournamentIndices] = fitness[tournamentIndices]\n",
        "            \n",
        "            tmpPopulation[i] = self.population[np.argmax(tmpfitness)]\n",
        "\n",
        "        self.population = tmpPopulation.copy()\n",
        "\n",
        "\n",
        "    def Mutate(self):\n",
        "        mean_value_before = np.mean(np.apply_along_axis(self.evaluate, 1, self.population))\n",
        "        self.population = self.population + self.mutation_sigma * np.random.normal(size = self.population.shape)\n",
        "        mean_value_after = np.mean(np.apply_along_axis(self.evaluate, 1, self.population))\n",
        "\n",
        "        if mean_value_after > mean_value_before:\n",
        "            self.mutation_success_counter += 1\n",
        "\n",
        "        if self.mutation_success_counter > 0.2 * self.iter:\n",
        "            self.mutation_sigma *= 2.0\n",
        "        else:    \n",
        "            self.mutation_sigma /= 2.0\n",
        "\n",
        "\n",
        "\n",
        "\n",
        "\n",
        "    def Crossover(self):\n",
        "        number_of_crossovers = int(self.crossing_probability * self.populationSize)\n",
        "            \n",
        "        # In each crossover, we select two parents\n",
        "        # parents are deleted from population, their child is added to population\n",
        "        # this phase SHRINKS population, population will regain its original size on succession\n",
        "\n",
        "        rows_to_delete = []\n",
        "        children = np.zeros(shape = (number_of_crossovers, self.population.shape[1]))\n",
        "\n",
        "        for i in range(number_of_crossovers):\n",
        "            first_parent_ind = np.random.randint(self.populationSize)\n",
        "            second_parent_ind = np.random.randint(self.populationSize)\n",
        "\n",
        "            rows_to_delete.append(first_parent_ind)\n",
        "            rows_to_delete.append(second_parent_ind)\n",
        "\n",
        "            child = (self.population[first_parent_ind] + self.population[second_parent_ind]) / 2\n",
        "            children[i] = child\n",
        "\n",
        "\n",
        "        self.population = np.delete(self.population, rows_to_delete, axis = 0)\n",
        "        self.population = np.append(self.population, children, axis = 0)\n",
        "\n",
        "\n",
        "    def Succession(self):\n",
        "        # generative succession - we are taking elements after mutation\n",
        "        # we keep population size constant, that's why we are duplicatind some elements sometimes\n",
        "        add_individuals = np.random.choice(self.population.shape[0], self.populationSize - self.population.shape[0])\n",
        "        self.population = np.append(self.population, self.population[add_individuals], axis = 0)\n"
      ],
      "execution_count": 0,
      "outputs": []
    },
    {
      "cell_type": "markdown",
      "metadata": {
        "colab_type": "text",
        "id": "TRwhxIs0MeKk"
      },
      "source": [
        "## Wizualizacja populacji przed uruchomieniem algorytmu"
      ]
    },
    {
      "cell_type": "code",
      "metadata": {
        "colab_type": "code",
        "id": "8Zo3zLqZMjvE",
        "outputId": "1760bcba-f9c7-4e04-a2e5-64dc73cb330b",
        "colab": {
          "base_uri": "https://localhost:8080/",
          "height": 353
        }
      },
      "source": [
        "alg = EvolutionaryAlgorithm(goal_function = constant)\n",
        "\n",
        "x = []\n",
        "y = []\n",
        "for obs in alg.population:\n",
        "    x.append(obs[0])\n",
        "    y.append(obs[1])\n",
        "\n",
        "fig = plt.figure()\n",
        "ax = fig.add_axes([0,0,1,1])\n",
        "plt.scatter(x, y)"
      ],
      "execution_count": 25,
      "outputs": [
        {
          "output_type": "execute_result",
          "data": {
            "text/plain": [
              "<matplotlib.collections.PathCollection at 0x7f75e8f353c8>"
            ]
          },
          "metadata": {
            "tags": []
          },
          "execution_count": 25
        },
        {
          "output_type": "display_data",
          "data": {
            "image/png": "[encoded data removed]",
            "text/plain": [
              "<Figure size 432x288 with 1 Axes>"
            ]
          },
          "metadata": {
            "tags": [],
            "needs_background": "light"
          }
        }
      ]
    },
    {
      "cell_type": "markdown",
      "metadata": {
        "colab_type": "text",
        "id": "2HYO-oEWBI0B"
      },
      "source": [
        "## Uruchomienie algorytmu"
      ]
    },
    {
      "cell_type": "code",
      "metadata": {
        "colab_type": "code",
        "id": "gdAKL9uY9RXc",
        "outputId": "9a8fbd69-3730-407b-caa9-41e7d990e2fa",
        "colab": {
          "base_uri": "https://localhost:8080/",
          "height": 527
        }
      },
      "source": [
        "alg.Solve()"
      ],
      "execution_count": 26,
      "outputs": [
        {
          "output_type": "stream",
          "text": [
            "iteration:  0\n",
            "mean [0.05920658 0.11134932]\n",
            "std [2.94224741 2.79286143]\n",
            "iteration:  1\n",
            "mean [0.14066229 0.16103011]\n",
            "std [2.68032248 2.54724797]\n",
            "iteration:  2\n",
            "mean [0.35278534 0.10132753]\n",
            "std [2.65589485 2.57463079]\n",
            "iteration:  3\n",
            "mean [0.67400216 0.18917775]\n",
            "std [2.53557796 2.48999708]\n",
            "iteration:  4\n",
            "mean [ 0.56284195 -0.13857356]\n",
            "std [2.44475994 2.50526657]\n",
            "iteration:  5\n",
            "mean [ 0.53777711 -0.3644255 ]\n",
            "std [2.28243268 2.32582881]\n",
            "iteration:  6\n",
            "mean [ 0.66777628 -0.60133739]\n",
            "std [2.20285269 2.30646686]\n",
            "iteration:  7\n",
            "mean [ 0.75941176 -0.50606956]\n",
            "std [2.14694117 2.10998288]\n",
            "iteration:  8\n",
            "mean [ 0.64150158 -0.51454908]\n",
            "std [2.02623736 2.04086354]\n",
            "iteration:  9\n",
            "mean [ 0.58319118 -0.40529209]\n",
            "std [1.98520593 2.00685891]\n"
          ],
          "name": "stdout"
        }
      ]
    },
    {
      "cell_type": "markdown",
      "metadata": {
        "colab_type": "text",
        "id": "kniGyPJbBM0Z"
      },
      "source": [
        "## Wykresy"
      ]
    },
    {
      "cell_type": "markdown",
      "metadata": {
        "colab_type": "text",
        "id": "mMqLpY1uDg4H"
      },
      "source": [
        "### Wizualizacja populacji po uruchomieniu algorytmu"
      ]
    },
    {
      "cell_type": "code",
      "metadata": {
        "colab_type": "code",
        "id": "j4qyvVcABOhz",
        "outputId": "ec0c3c1d-e5a9-4166-e43b-b005fbbceeb1",
        "colab": {
          "base_uri": "https://localhost:8080/",
          "height": 353
        }
      },
      "source": [
        "x2 = []\n",
        "y2 = []\n",
        "for obs in alg.population:\n",
        "    x2.append(obs[0])\n",
        "    y2.append(obs[1])\n",
        "\n",
        "fig = plt.figure()\n",
        "ax = fig.add_axes([0,0,1,1])\n",
        "plt.scatter(x2, y2)"
      ],
      "execution_count": 27,
      "outputs": [
        {
          "output_type": "execute_result",
          "data": {
            "text/plain": [
              "<matplotlib.collections.PathCollection at 0x7f75e8e57860>"
            ]
          },
          "metadata": {
            "tags": []
          },
          "execution_count": 27
        },
        {
          "output_type": "display_data",
          "data": {
            "image/png": "[encoded data removed]",
            "text/plain": [
              "<Figure size 432x288 with 1 Axes>"
            ]
          },
          "metadata": {
            "tags": [],
            "needs_background": "light"
          }
        }
      ]
    },
    {
      "cell_type": "code",
      "metadata": {
        "id": "2cesFTXclqQZ",
        "colab_type": "code",
        "colab": {}
      },
      "source": [
        ""
      ],
      "execution_count": 0,
      "outputs": []
    }
  ]
}